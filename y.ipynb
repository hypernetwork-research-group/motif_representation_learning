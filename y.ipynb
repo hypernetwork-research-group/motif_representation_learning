{
 "cells": [
  {
   "cell_type": "code",
   "execution_count": 1,
   "metadata": {},
   "outputs": [],
   "source": [
    "results = open(\"y_input.txt\", \"r\").readlines()"
   ]
  },
  {
   "cell_type": "code",
   "execution_count": 2,
   "metadata": {},
   "outputs": [],
   "source": [
    "model_names = list(map(lambda x: x.lower(), [\n",
    "    \"Common Neighors\",\n",
    "    \"Adamic Adar\",\n",
    "    \"Jaccard Coefficient\",\n",
    "    \"HPRA\",\n",
    "    \"Node2Vec\",\n",
    "    \"Node2Vec HyperGCN\",\n",
    "    \"VilLain\",\n",
    "    \"Hypergraph Motif Conv\",\n",
    "    \"Hypergraph Motif Conv VilLain\",\n",
    "]))"
   ]
  },
  {
   "cell_type": "code",
   "execution_count": 3,
   "metadata": {},
   "outputs": [],
   "source": [
    "model = None\n",
    "acc = [None] * 9\n",
    "acc_stds = [None] * 9\n",
    "f1s = [None] * 9\n",
    "f1_stds = [None] * 9\n",
    "rocs = [None] * 9\n",
    "roc_stds = [None] * 9\n",
    "for r in results:\n",
    "    r = r.strip()\n",
    "    if r.lower() in model_names:\n",
    "        model = r.lower()\n",
    "    if \"Accuracy\" in r:\n",
    "        roc = r.split()[3]\n",
    "        std = r.split()[5]\n",
    "        acc[model_names.index(model)] = float(roc)\n",
    "        acc_stds[model_names.index(model)] = float(std)\n",
    "    if \"F1\" in r:\n",
    "        f1 = r.split()[3]\n",
    "        std = r.split()[5]\n",
    "        f1s[model_names.index(model)] = float(f1)\n",
    "        f1_stds[model_names.index(model)] = float(std)\n",
    "    if \"ROC\" in r:\n",
    "        roc = r.split()[4]\n",
    "        std = r.split()[6]\n",
    "        rocs[model_names.index(model)] = float(roc)\n",
    "        roc_stds[model_names.index(model)] = float(std)"
   ]
  },
  {
   "cell_type": "code",
   "execution_count": 4,
   "metadata": {},
   "outputs": [
    {
     "name": "stdout",
     "output_type": "stream",
     "text": [
      "& \\cellcolor{model-51} $0.51 \\pm 0.00$ & \\cellcolor{model-61} $0.61 \\pm 0.03$ & \\cellcolor{model-79} $0.79 \\pm 0.02$ & \\cellcolor{model-12} $0.12 \\pm 0.01$ & \\cellcolor{model-82} $0.82 \\pm 0.01$ & \\cellcolor{model-88} $0.88 \\pm 0.02$ & \\cellcolor{model-77} $0.77 \\pm 0.02$ & \\cellcolor{model-96} $0.96 \\pm 0.00$ & \\cellcolor{model-94} $0.94 \\pm 0.01$ \n",
      "& \\cellcolor{green!12} \\shortstack{ $0.45 \\pm 0.01 $}  & \\cellcolor{green!12} \\shortstack{ $0.45 \\pm 0.01 $}  & \\cellcolor{green!12} \\shortstack{ $0.45 \\pm 0.01 $}  &  \\cellcolor{green!12} \\shortstack{ $0.45 \\pm 0.01 $}   &  \\cellcolor{green!12} \\shortstack{ $0.45 \\pm 0.01 $}  &  \\cellcolor{green!12} \\shortstack{ $0.45 \\pm 0.01 $}       & \\cellcolor{green!12} \\shortstack{ $0.45 \\pm 0.01 $}  &  \\cellcolor{green!12} \\shortstack{ $0.45 \\pm 0.01 $}     &  \\cellcolor{green!12} \\shortstack{ $0.45 \\pm 0.01 $}   \\\\\n"
     ]
    }
   ],
   "source": [
    "for roc, std in zip(rocs, roc_stds):\n",
    "    x = int(roc * 100)\n",
    "    print(f\"& \\\\cellcolor{{model-{x}}} ${roc:.2f} \\pm {std:.2f}$ \", end=\"\")\n",
    "print()\n",
    "print(\"& \\cellcolor{green!12} \\shortstack{ $0.45 \\pm 0.01 $}  & \\cellcolor{green!12} \\shortstack{ $0.45 \\pm 0.01 $}  & \\cellcolor{green!12} \\shortstack{ $0.45 \\pm 0.01 $}  &  \\cellcolor{green!12} \\shortstack{ $0.45 \\pm 0.01 $}   &  \\cellcolor{green!12} \\shortstack{ $0.45 \\pm 0.01 $}  &  \\cellcolor{green!12} \\shortstack{ $0.45 \\pm 0.01 $}       & \\cellcolor{green!12} \\shortstack{ $0.45 \\pm 0.01 $}  &  \\cellcolor{green!12} \\shortstack{ $0.45 \\pm 0.01 $}     &  \\cellcolor{green!12} \\shortstack{ $0.45 \\pm 0.01 $}   \\\\\\\\\")"
   ]
  },
  {
   "cell_type": "code",
   "execution_count": 5,
   "metadata": {},
   "outputs": [
    {
     "name": "stdout",
     "output_type": "stream",
     "text": [
      "& \\cellcolor{model-55} $0.55 \\pm 0.00$ & \\cellcolor{model-52} $0.52 \\pm 0.01$ & \\cellcolor{model-50} $0.50 \\pm 0.00$ & \\cellcolor{model-50} $0.50 \\pm 0.00$ & \\cellcolor{model-50} $0.50 \\pm 0.00$ & \\cellcolor{model-62} $0.62 \\pm 0.01$ & \\cellcolor{model-68} $0.68 \\pm 0.02$ & \\cellcolor{model-90} $0.90 \\pm 0.01$ & \\cellcolor{model-82} $0.82 \\pm 0.06$ \\\\\n"
     ]
    }
   ],
   "source": [
    "for roc, std in zip(acc, acc_stds):\n",
    "    x = int(roc * 100)\n",
    "    print(f\"& \\\\cellcolor{{model-{x}}} ${roc:.2f} \\pm {std:.2f}$ \", end=\"\")\n",
    "print(\"\\\\\\\\\")"
   ]
  },
  {
   "cell_type": "code",
   "execution_count": 6,
   "metadata": {},
   "outputs": [
    {
     "name": "stdout",
     "output_type": "stream",
     "text": [
      "& \\cellcolor{model-33} $0.33 \\pm 0.02$ & \\cellcolor{model-9} $0.09 \\pm 0.04$ & \\cellcolor{model-0} $0.00 \\pm 0.00$ & \\cellcolor{model-0} $0.00 \\pm 0.00$ & \\cellcolor{model-0} $0.00 \\pm 0.00$ & \\cellcolor{model-41} $0.41 \\pm 0.02$ & \\cellcolor{model-63} $0.63 \\pm 0.03$ & \\cellcolor{model-90} $0.90 \\pm 0.01$ & \\cellcolor{model-78} $0.78 \\pm 0.10$ \\\\\n"
     ]
    }
   ],
   "source": [
    "for roc, std in zip(f1s, f1_stds):\n",
    "    x = int(roc * 100)\n",
    "    print(f\"& \\\\cellcolor{{model-{x}}} ${roc:.2f} \\pm {std:.2f}$ \", end=\"\")\n",
    "print(\"\\\\\\\\\")"
   ]
  }
 ],
 "metadata": {
  "kernelspec": {
   "display_name": "Python 3",
   "language": "python",
   "name": "python3"
  },
  "language_info": {
   "codemirror_mode": {
    "name": "ipython",
    "version": 3
   },
   "file_extension": ".py",
   "mimetype": "text/x-python",
   "name": "python",
   "nbconvert_exporter": "python",
   "pygments_lexer": "ipython3",
   "version": "3.10.12"
  }
 },
 "nbformat": 4,
 "nbformat_minor": 2
}
