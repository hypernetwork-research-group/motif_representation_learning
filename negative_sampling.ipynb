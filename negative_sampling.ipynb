{
 "cells": [
  {
   "cell_type": "code",
   "execution_count": 1,
   "metadata": {},
   "outputs": [],
   "source": [
    "import numpy as np\n",
    "import matplotlib.pyplot as plt\n",
    "import os\n",
    "os.environ['OMP_NUM_THREADS'] = '16'"
   ]
  },
  {
   "cell_type": "code",
   "execution_count": 2,
   "metadata": {},
   "outputs": [
    {
     "name": "stdout",
     "output_type": "stream",
     "text": [
      "email-Enron-full dataset: 10885 time steps, 149 vertices, 1514 unique edges\n"
     ]
    }
   ],
   "source": [
    "from datasets import EmailEnron, EmailEnronFull, EmailEuFull, ContactHighSchool, ContactPrimarySchool, NDCClassesFull, TagsAskUbuntu, TagsMathSx\n",
    "dataset = EmailEnronFull()\n",
    "incidence_matrix = dataset.incidence_matrix(lambda e: len(e) > 1)\n",
    "print(dataset)"
   ]
  },
  {
   "cell_type": "code",
   "execution_count": 3,
   "metadata": {},
   "outputs": [],
   "source": [
    "from pymochy import Mochy\n",
    "from motif import motif_negative_sampling"
   ]
  },
  {
   "cell_type": "code",
   "execution_count": 4,
   "metadata": {},
   "outputs": [],
   "source": [
    "mochy = Mochy(incidence_matrix)"
   ]
  },
  {
   "cell_type": "code",
   "execution_count": 5,
   "metadata": {},
   "outputs": [
    {
     "data": {
      "text/plain": [
       "(149, 1459)"
      ]
     },
     "execution_count": 5,
     "metadata": {},
     "output_type": "execute_result"
    }
   ],
   "source": [
    "incidence_matrix.shape"
   ]
  },
  {
   "cell_type": "code",
   "execution_count": 6,
   "metadata": {},
   "outputs": [
    {
     "data": {
      "text/plain": [
       "array([      0,       0,    8974,  773140,       0,   10860,       0,\n",
       "         14951,  387607,  610733,    2419,   39782,   23289,  150986,\n",
       "         35540,  122617,     420,    4898,   13273,    9577,     488,\n",
       "         38346,   38824,  770822, 1245945, 5346318,    2081,   40210,\n",
       "        119793,   71853])"
      ]
     },
     "execution_count": 6,
     "metadata": {},
     "output_type": "execute_result"
    }
   ],
   "source": [
    "mochy.count()"
   ]
  },
  {
   "cell_type": "code",
   "execution_count": 7,
   "metadata": {},
   "outputs": [
    {
     "name": "stdout",
     "output_type": "stream",
     "text": [
      "here\n"
     ]
    },
    {
     "data": {
      "text/plain": [
       "array([[1436, 1440, 1443],\n",
       "       [1420, 1436, 1449],\n",
       "       [1409, 1436, 1440],\n",
       "       ...,\n",
       "       [   0,  425,  732],\n",
       "       [   0,  348, 1191],\n",
       "       [   0,  161, 1165]], dtype=int32)"
      ]
     },
     "execution_count": 7,
     "metadata": {},
     "output_type": "execute_result"
    }
   ],
   "source": [
    "motifs = mochy.sample(29, limit=25000)[:, 1:]\n",
    "motifs"
   ]
  },
  {
   "cell_type": "code",
   "execution_count": 8,
   "metadata": {},
   "outputs": [
    {
     "name": "stdout",
     "output_type": "stream",
     "text": [
      "Elapsed time:  0.046607255935668945\n"
     ]
    }
   ],
   "source": [
    "im, motifs, ye, ym = motif_negative_sampling(incidence_matrix, motifs, 0.5, 1)"
   ]
  },
  {
   "cell_type": "code",
   "execution_count": 9,
   "metadata": {},
   "outputs": [
    {
     "data": {
      "text/plain": [
       "array([[ 1100, 19433, 33236],\n",
       "       [ 2626,  6153, 33236],\n",
       "       [ 9283, 19433, 33236],\n",
       "       ...,\n",
       "       [ 7235,  7250, 20671],\n",
       "       [ 7251,  9401, 35672],\n",
       "       [20625, 21675, 46576]], dtype=int32)"
      ]
     },
     "execution_count": 9,
     "metadata": {},
     "output_type": "execute_result"
    }
   ],
   "source": [
    "motifs"
   ]
  },
  {
   "cell_type": "code",
   "execution_count": 10,
   "metadata": {},
   "outputs": [],
   "source": [
    "from motif import edge_motif_interactions, node_node_interactions"
   ]
  },
  {
   "cell_type": "code",
   "execution_count": null,
   "metadata": {},
   "outputs": [
    {
     "name": "stdout",
     "output_type": "stream",
     "text": [
      "Elapsed time:  0.4053325653076172\n"
     ]
    }
   ],
   "source": [
    "nni = node_node_interactions(incidence_matrix)\n",
    "eei = node_node_interactions(incidence_matrix.T)\n",
    "emi = edge_motif_interactions(incidence_matrix, motifs)"
   ]
  },
  {
   "cell_type": "code",
   "execution_count": null,
   "metadata": {},
   "outputs": [
    {
     "data": {
      "text/plain": [
       "array([[  1,   2,   1, ..., 148, 147, 148],\n",
       "       [  2,   1,   4, ..., 145, 148, 147]], dtype=int32)"
      ]
     },
     "execution_count": 13,
     "metadata": {},
     "output_type": "execute_result"
    }
   ],
   "source": [
    "nni"
   ]
  }
 ],
 "metadata": {
  "kernelspec": {
   "display_name": "Python 3",
   "language": "python",
   "name": "python3"
  },
  "language_info": {
   "codemirror_mode": {
    "name": "ipython",
    "version": 3
   },
   "file_extension": ".py",
   "mimetype": "text/x-python",
   "name": "python",
   "nbconvert_exporter": "python",
   "pygments_lexer": "ipython3",
   "version": "3.10.14"
  }
 },
 "nbformat": 4,
 "nbformat_minor": 2
}
