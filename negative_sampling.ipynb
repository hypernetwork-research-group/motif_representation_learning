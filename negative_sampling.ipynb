{
 "cells": [
  {
   "cell_type": "code",
   "execution_count": 1,
   "metadata": {},
   "outputs": [],
   "source": [
    "import numpy as np\n",
    "import matplotlib.pyplot as plt\n",
    "import os\n",
    "os.environ['OMP_NUM_THREADS'] = '32'"
   ]
  },
  {
   "cell_type": "code",
   "execution_count": 2,
   "metadata": {},
   "outputs": [
    {
     "name": "stdout",
     "output_type": "stream",
     "text": [
      "contact-high-school dataset: 172035 time steps, 328 vertices, 7818 unique edges\n"
     ]
    }
   ],
   "source": [
    "from datasets import EmailEnron, EmailEnronFull, EmailEuFull, ContactHighSchool, ContactPrimarySchool, NDCClassesFull, TagsAskUbuntu, TagsMathSx\n",
    "dataset = ContactHighSchool()\n",
    "incidence_matrix = dataset.incidence_matrix(lambda e: len(e) > 1)\n",
    "print(dataset)"
   ]
  },
  {
   "cell_type": "code",
   "execution_count": 3,
   "metadata": {},
   "outputs": [],
   "source": [
    "from pymochy import Mochy\n",
    "from motif import motif_negative_sampling\n",
    "from negative_sampling import NegativeSampler"
   ]
  },
  {
   "cell_type": "code",
   "execution_count": 4,
   "metadata": {},
   "outputs": [],
   "source": [
    "mochy = Mochy(incidence_matrix)"
   ]
  },
  {
   "cell_type": "code",
   "execution_count": 5,
   "metadata": {},
   "outputs": [
    {
     "data": {
      "text/plain": [
       "(328, 7818)"
      ]
     },
     "execution_count": 5,
     "metadata": {},
     "output_type": "execute_result"
    }
   ],
   "source": [
    "incidence_matrix.shape"
   ]
  },
  {
   "cell_type": "code",
   "execution_count": 6,
   "metadata": {},
   "outputs": [
    {
     "data": {
      "text/plain": [
       "array([       0,        0,    14573, 12828909,        0,     2079,\n",
       "              0,      664,  1039692,  1785070,     8244,     3075,\n",
       "          53668,    22286,    76958,    36074,     1754,     2569,\n",
       "            995,      127,      669,       99,   417489,   169842,\n",
       "       22513015, 30077175,    37964,   186778,   293608,   180255])"
      ]
     },
     "execution_count": 6,
     "metadata": {},
     "output_type": "execute_result"
    }
   ],
   "source": [
    "mochy.count()"
   ]
  },
  {
   "cell_type": "code",
   "execution_count": 7,
   "metadata": {},
   "outputs": [
    {
     "data": {
      "text/plain": [
       "array([[7364, 7440, 7675],\n",
       "       [7272, 7323, 7364],\n",
       "       [7255, 7364, 7675],\n",
       "       ...,\n",
       "       [   9,  627, 6452],\n",
       "       [   9,  296, 2741],\n",
       "       [   9,  174, 7069]], dtype=int32)"
      ]
     },
     "execution_count": 7,
     "metadata": {},
     "output_type": "execute_result"
    }
   ],
   "source": [
    "motifs = mochy.sample(29, limit=10000)[:, 1:]\n",
    "motifs"
   ]
  },
  {
   "cell_type": "code",
   "execution_count": 8,
   "metadata": {},
   "outputs": [],
   "source": [
    "ns = NegativeSampler(incidence_matrix, 0.5, 1)"
   ]
  },
  {
   "cell_type": "code",
   "execution_count": 9,
   "metadata": {},
   "outputs": [
    {
     "data": {
      "text/plain": [
       "<negative_sampling.NegativeSampler at 0x709275810e90>"
      ]
     },
     "execution_count": 9,
     "metadata": {},
     "output_type": "execute_result"
    }
   ],
   "source": [
    "ns"
   ]
  },
  {
   "cell_type": "code",
   "execution_count": 14,
   "metadata": {},
   "outputs": [
    {
     "data": {
      "text/plain": [
       "(array([[0, 0, 0, ..., 0, 0, 0],\n",
       "        [0, 0, 0, ..., 1, 1, 1],\n",
       "        [0, 0, 0, ..., 1, 1, 1],\n",
       "        ...,\n",
       "        [0, 0, 0, ..., 0, 0, 0],\n",
       "        [0, 0, 0, ..., 0, 0, 0],\n",
       "        [0, 0, 0, ..., 0, 0, 0]], dtype=int16),\n",
       " array([[ 3312, 16801, 16825],\n",
       "        [16825, 16878, 16981],\n",
       "        [ 3315, 16801, 16825],\n",
       "        ...,\n",
       "        [ 4774, 15339, 15581],\n",
       "        [ 7871,  8033, 10251],\n",
       "        [ 3445,  4751,  8165]], dtype=int32),\n",
       " array([[1.],\n",
       "        [1.],\n",
       "        [1.],\n",
       "        ...,\n",
       "        [0.],\n",
       "        [1.],\n",
       "        [1.]], dtype=float32),\n",
       " array([[1.],\n",
       "        [1.],\n",
       "        [1.],\n",
       "        ...,\n",
       "        [0.],\n",
       "        [0.],\n",
       "        [0.]], dtype=float32))"
      ]
     },
     "execution_count": 14,
     "metadata": {},
     "output_type": "execute_result"
    }
   ],
   "source": [
    "motif_negative_sampling(incidence_matrix, motifs, 0.5, 1)"
   ]
  },
  {
   "cell_type": "code",
   "execution_count": 11,
   "metadata": {},
   "outputs": [
    {
     "data": {
      "text/plain": [
       "array([[7364, 7440, 7675],\n",
       "       [7272, 7323, 7364],\n",
       "       [7255, 7364, 7675],\n",
       "       ...,\n",
       "       [   9,  627, 6452],\n",
       "       [   9,  296, 2741],\n",
       "       [   9,  174, 7069]], dtype=int32)"
      ]
     },
     "execution_count": 11,
     "metadata": {},
     "output_type": "execute_result"
    }
   ],
   "source": [
    "motifs"
   ]
  },
  {
   "cell_type": "code",
   "execution_count": 12,
   "metadata": {},
   "outputs": [],
   "source": [
    "from motif import edge_motif_interactions, node_node_interactions"
   ]
  },
  {
   "cell_type": "code",
   "execution_count": 13,
   "metadata": {},
   "outputs": [],
   "source": [
    "nni = node_node_interactions(incidence_matrix)\n",
    "eei = node_node_interactions(incidence_matrix.T)\n",
    "emi = edge_motif_interactions(incidence_matrix, motifs)"
   ]
  }
 ],
 "metadata": {
  "kernelspec": {
   "display_name": "Python 3",
   "language": "python",
   "name": "python3"
  },
  "language_info": {
   "codemirror_mode": {
    "name": "ipython",
    "version": 3
   },
   "file_extension": ".py",
   "mimetype": "text/x-python",
   "name": "python",
   "nbconvert_exporter": "python",
   "pygments_lexer": "ipython3",
   "version": "3.10.14"
  }
 },
 "nbformat": 4,
 "nbformat_minor": 2
}
