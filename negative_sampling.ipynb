{
 "cells": [
  {
   "cell_type": "code",
   "execution_count": 1,
   "metadata": {},
   "outputs": [],
   "source": [
    "import numpy as np\n",
    "import matplotlib.pyplot as plt\n",
    "import os\n",
    "os.environ['OMP_NUM_THREADS'] = '16'"
   ]
  },
  {
   "cell_type": "code",
   "execution_count": 2,
   "metadata": {},
   "outputs": [
    {
     "name": "stdout",
     "output_type": "stream",
     "text": [
      "email-Enron-full dataset: 10885 time steps, 149 vertices, 1514 unique edges\n"
     ]
    }
   ],
   "source": [
    "from datasets import EmailEnron, EmailEnronFull, EmailEuFull, ContactHighSchool, ContactPrimarySchool, NDCClassesFull, TagsAskUbuntu, TagsMathSx\n",
    "dataset = EmailEnronFull()\n",
    "incidence_matrix = dataset.incidence_matrix(lambda e: len(e) > 1)\n",
    "print(dataset)"
   ]
  },
  {
   "cell_type": "code",
   "execution_count": 3,
   "metadata": {},
   "outputs": [],
   "source": [
    "from pymochy import Mochy\n",
    "from motif import xmotif_negative_sampling"
   ]
  },
  {
   "cell_type": "code",
   "execution_count": 4,
   "metadata": {},
   "outputs": [],
   "source": [
    "mochy = Mochy(incidence_matrix)"
   ]
  },
  {
   "cell_type": "code",
   "execution_count": 5,
   "metadata": {},
   "outputs": [
    {
     "data": {
      "text/plain": [
       "(149, 1459)"
      ]
     },
     "execution_count": 5,
     "metadata": {},
     "output_type": "execute_result"
    }
   ],
   "source": [
    "incidence_matrix.shape"
   ]
  },
  {
   "cell_type": "code",
   "execution_count": 6,
   "metadata": {},
   "outputs": [
    {
     "data": {
      "text/plain": [
       "array([      0,       0,    8969,  772960,       0,   10802,       0,\n",
       "         14916,  387154,  610322,    2416,   39700,   23269,  150765,\n",
       "         35517,  122502,     420,    4898,   13273,    9577,     488,\n",
       "         38346,   38824,  770822, 1245945, 5346318,    2081,   40210,\n",
       "        119793,   71853])"
      ]
     },
     "execution_count": 6,
     "metadata": {},
     "output_type": "execute_result"
    }
   ],
   "source": [
    "mochy.count()"
   ]
  },
  {
   "cell_type": "code",
   "execution_count": 7,
   "metadata": {},
   "outputs": [
    {
     "data": {
      "text/plain": [
       "array([[1422, 1426, 1449],\n",
       "       [1420, 1436, 1449],\n",
       "       [1409, 1436, 1440],\n",
       "       ...,\n",
       "       [   0,  425,  732],\n",
       "       [   0,  348, 1191],\n",
       "       [   0,  161, 1165]], dtype=int32)"
      ]
     },
     "execution_count": 7,
     "metadata": {},
     "output_type": "execute_result"
    }
   ],
   "source": [
    "motifs = mochy.sample(29, limit=25000)[:, 1:]\n",
    "motifs"
   ]
  },
  {
   "cell_type": "code",
   "execution_count": 9,
   "metadata": {},
   "outputs": [
    {
     "ename": "TypeError",
     "evalue": "cannot unpack non-iterable NoneType object",
     "output_type": "error",
     "traceback": [
      "\u001b[0;31m---------------------------------------------------------------------------\u001b[0m",
      "\u001b[0;31mTypeError\u001b[0m                                 Traceback (most recent call last)",
      "Cell \u001b[0;32mIn[9], line 1\u001b[0m\n\u001b[0;32m----> 1\u001b[0m im, motifs, ye, ym \u001b[38;5;241m=\u001b[39m xmotif_negative_sampling(incidence_matrix, motifs, \u001b[38;5;241m0.5\u001b[39m, \u001b[38;5;241m1\u001b[39m)\n",
      "\u001b[0;31mTypeError\u001b[0m: cannot unpack non-iterable NoneType object"
     ]
    }
   ],
   "source": [
    "im, motifs, ye, ym = xmotif_negative_sampling(incidence_matrix, motifs, 0.5, 1)"
   ]
  },
  {
   "cell_type": "code",
   "execution_count": null,
   "metadata": {},
   "outputs": [
    {
     "data": {
      "text/plain": [
       "(array([  1,   1,   1, ..., 148, 148, 148]),\n",
       " array([  24,   46,   61, ..., 1163, 1411, 1423]))"
      ]
     },
     "execution_count": 9,
     "metadata": {},
     "output_type": "execute_result"
    }
   ],
   "source": [
    "incidence_matrix.nonzero()"
   ]
  },
  {
   "cell_type": "code",
   "execution_count": null,
   "metadata": {},
   "outputs": [
    {
     "data": {
      "text/plain": [
       "array([[ 2510,  5457,  6034],\n",
       "       [ 2512,  6038, 32876],\n",
       "       [ 8222, 12586, 32876],\n",
       "       ...,\n",
       "       [ 7106,  7125, 20579],\n",
       "       [ 1460,  7126, 38660],\n",
       "       [ 5391, 11088, 43635]], dtype=int32)"
      ]
     },
     "execution_count": 10,
     "metadata": {},
     "output_type": "execute_result"
    }
   ],
   "source": [
    "motifs"
   ]
  },
  {
   "cell_type": "code",
   "execution_count": null,
   "metadata": {},
   "outputs": [],
   "source": [
    "from motif import edge_motif_interactions, node_node_interactions"
   ]
  },
  {
   "cell_type": "code",
   "execution_count": null,
   "metadata": {},
   "outputs": [],
   "source": [
    "nni = node_node_interactions(incidence_matrix)\n",
    "eei = node_node_interactions(incidence_matrix.T)\n",
    "emi = edge_motif_interactions(incidence_matrix, motifs)"
   ]
  }
 ],
 "metadata": {
  "kernelspec": {
   "display_name": "Python 3",
   "language": "python",
   "name": "python3"
  },
  "language_info": {
   "codemirror_mode": {
    "name": "ipython",
    "version": 3
   },
   "file_extension": ".py",
   "mimetype": "text/x-python",
   "name": "python",
   "nbconvert_exporter": "python",
   "pygments_lexer": "ipython3",
   "version": "3.10.14"
  }
 },
 "nbformat": 4,
 "nbformat_minor": 2
}
