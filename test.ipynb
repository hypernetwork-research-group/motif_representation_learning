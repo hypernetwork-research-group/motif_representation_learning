{
 "cells": [
  {
   "cell_type": "code",
   "execution_count": 1,
   "metadata": {},
   "outputs": [],
   "source": [
    "import numpy as np\n",
    "from datasets import EmailEnronFull\n",
    "dataset = EmailEnronFull()\n",
    "incidence_matrix = dataset.incidence_matrix(lambda e: len(e) > 1)"
   ]
  },
  {
   "cell_type": "code",
   "execution_count": 2,
   "metadata": {},
   "outputs": [],
   "source": [
    "from models.hpra import HPRA"
   ]
  },
  {
   "cell_type": "code",
   "execution_count": 3,
   "metadata": {},
   "outputs": [
    {
     "name": "stdout",
     "output_type": "stream",
     "text": [
      "computing HRA scores\n"
     ]
    }
   ],
   "source": [
    "hpra = HPRA()\n",
    "hpra.fit(incidence_matrix)"
   ]
  },
  {
   "cell_type": "code",
   "execution_count": 4,
   "metadata": {},
   "outputs": [
    {
     "data": {
      "text/plain": [
       "matrix([[0.        , 0.        , 0.        , ..., 0.        , 0.        ,\n",
       "         0.        ],\n",
       "        [0.        , 0.77285335, 1.14135616, ..., 0.        , 1.05519232,\n",
       "         0.16673775],\n",
       "        [0.        , 1.14135616, 0.70176432, ..., 0.        , 1.28513718,\n",
       "         0.08373718],\n",
       "        ...,\n",
       "        [0.        , 0.        , 0.        , ..., 0.16077251, 0.        ,\n",
       "         0.        ],\n",
       "        [0.        , 1.05519232, 1.28513718, ..., 0.        , 0.49523531,\n",
       "         0.03672863],\n",
       "        [0.        , 0.16673775, 0.08373718, ..., 0.        , 0.03672863,\n",
       "         0.23283701]])"
      ]
     },
     "execution_count": 4,
     "metadata": {},
     "output_type": "execute_result"
    }
   ],
   "source": [
    "hpra.hra_scores"
   ]
  },
  {
   "cell_type": "code",
   "execution_count": 6,
   "metadata": {},
   "outputs": [
    {
     "data": {
      "text/plain": [
       "45.0"
      ]
     },
     "execution_count": 6,
     "metadata": {},
     "output_type": "execute_result"
    }
   ],
   "source": [
    "np.ceil(np.linalg.norm(hpra.hra_scores, np.inf))"
   ]
  }
 ],
 "metadata": {
  "kernelspec": {
   "display_name": "Python 3",
   "language": "python",
   "name": "python3"
  },
  "language_info": {
   "codemirror_mode": {
    "name": "ipython",
    "version": 3
   },
   "file_extension": ".py",
   "mimetype": "text/x-python",
   "name": "python",
   "nbconvert_exporter": "python",
   "pygments_lexer": "ipython3",
   "version": "3.10.12"
  }
 },
 "nbformat": 4,
 "nbformat_minor": 2
}
