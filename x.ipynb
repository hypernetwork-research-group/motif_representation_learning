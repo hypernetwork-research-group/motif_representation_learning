{
 "cells": [
  {
   "cell_type": "code",
   "execution_count": 1,
   "metadata": {},
   "outputs": [],
   "source": [
    "X = \"\"\"\n",
    "\n",
    "1    & \\\\cellcolor{model-57} $0.58 \\\\pm 0.12$ & \\\\cellcolor{model-77} $0.77 \\\\pm 0.00$ & \\\\cellcolor{model-68} $0.68 \\\\pm 0.00$ & \\\\cellcolor{model-68} $0.68 \\\\pm 0.01$ & \\\\cellcolor{model-42} $0.42 \\\\pm 0.16$ & \\\\cellcolor{model-70} $0.70 \\\\pm 0.04$ & \\\\cellcolor{model-80} $0.80 \\\\pm 0.03$ & \\\\cellcolor{model-91} $0.91 \\\\pm 0.02$ & \\\\cellcolor{model-90} $0.90 \\\\pm 0.00$ \\\\\\\\\n",
    "\n",
    "2   & \\\\cellcolor{model-55} $0.55 \\\\pm 0.12$ & \\\\cellcolor{model-70} $0.70 \\\\pm 0.01$ & \\\\cellcolor{model-60} $0.60 \\\\pm 0.02$ & \\\\cellcolor{model-65} $0.65 \\\\pm 0.03$ & \\\\cellcolor{model-72} $0.72 \\\\pm 0.04$ & \\\\cellcolor{model-71} $0.71 \\\\pm 0.03$ & \\\\cellcolor{model-79} $0.79 \\\\pm 0.07$ & \\\\cellcolor{model-76} $0.76 \\\\pm 0.10$ & \\\\cellcolor{model-86} $0.86 \\\\pm 0.04$ \\\\\\\\\n",
    "\n",
    "3  & \\\\cellcolor{model-63} $0.63 \\\\pm 0.05$ & \\\\cellcolor{model-78} $0.78 \\\\pm 0.01$ & \\\\cellcolor{model-67} $0.67 \\\\pm 0.06$ & \\\\cellcolor{model-67} $0.67 \\\\pm 0.02$ & \\\\cellcolor{model-66} $0.66 \\\\pm 0.04$ & \\\\cellcolor{model-75} $0.75 \\\\pm 0.02$ & \\\\cellcolor{model-86} $0.86 \\\\pm 0.00$ & \\\\cellcolor{model-88} $0.88 \\\\pm 0.05$ & \\\\cellcolor{model-92} $0.92 \\\\pm 0.02$ \\\\\\\\\n",
    "\n",
    "4   & \\\\cellcolor{model-60} $0.60 \\\\pm 0.04$ & \\\\cellcolor{model-79} $0.79 \\\\pm 0.01$ & \\\\cellcolor{model-74} $0.74 \\\\pm 0.01$ & \\\\cellcolor{model-66} $0.66 \\\\pm 0.01$ & \\\\cellcolor{model-56} $0.56 \\\\pm 0.16$ & \\\\cellcolor{model-70} $0.70 \\\\pm 0.03$ & \\\\cellcolor{model-89} $0.89 \\\\pm 0.02$ & \\\\cellcolor{model-83} $0.83 \\\\pm 0.10$ & \\\\cellcolor{model-91} $0.91 \\\\pm 0.02$ \\\\\\\\\n",
    "\n",
    "5  & \\\\cellcolor{model-65} $0.65 \\\\pm 0.01$ & \\\\cellcolor{model-74} $0.74 \\\\pm 0.01$ & \\\\cellcolor{model-65} $0.65 \\\\pm 0.03$ & \\\\cellcolor{model-66} $0.66 \\\\pm 0.01$ & \\\\cellcolor{model-72} $0.72 \\\\pm 0.02$ & \\\\cellcolor{model-66} $0.66 \\\\pm 0.05$ & \\\\cellcolor{model-88} $0.88 \\\\pm 0.01$ & \\\\cellcolor{model-87} $0.87 \\\\pm 0.07$ & \\\\cellcolor{model-90} $0.90 \\\\pm 0.01$ \\\\\\\\\n",
    "\n",
    "6 & \\\\cellcolor{model-55} $0.55 \\\\pm 0.04$ & \\\\cellcolor{model-77} $0.77 \\\\pm 0.00$ & \\\\cellcolor{model-67} $0.67 \\\\pm 0.01$ & \\\\cellcolor{model-69} $0.69 \\\\pm 0.02$ & \\\\cellcolor{model-72} $0.72 \\\\pm 0.01$ & \\\\cellcolor{model-68} $0.68 \\\\pm 0.03$ & \\\\cellcolor{model-87} $0.87 \\\\pm 0.04$ & \\\\cellcolor{model-88} $0.88 \\\\pm 0.05$ & \\\\cellcolor{model-91} $0.91 \\\\pm 0.00$ \\\\\\\\\n",
    "\n",
    "7  & \\\\cellcolor{model-68} $0.68 \\\\pm 0.00$ & \\\\cellcolor{model-77} $0.77 \\\\pm 0.01$ & \\\\cellcolor{model-65} $0.65 \\\\pm 0.01$ & \\\\cellcolor{model-64} $0.64 \\\\pm 0.07$ & \\\\cellcolor{model-68} $0.68 \\\\pm 0.00$ & \\\\cellcolor{model-91} $0.91 \\\\pm 0.01$ & \\\\cellcolor{model-84} $0.84 \\\\pm 0.02$ & \\\\cellcolor{model-92} $0.92 \\\\pm 0.01$ & \\\\cellcolor{model-90} $0.90 \\\\pm 0.03$ \\\\\\\\\n",
    "\n",
    "8  & \\\\cellcolor{model-59} $0.59 \\\\pm 0.03$ & \\\\cellcolor{model-80} $0.80 \\\\pm 0.01$ & \\\\cellcolor{model-70} $0.70 \\\\pm 0.00$ & \\\\cellcolor{model-70} $0.70 \\\\pm 0.01$ & \\\\cellcolor{model-65} $0.65 \\\\pm 0.04$ & \\\\cellcolor{model-66} $0.66 \\\\pm 0.06$ & \\\\cellcolor{model-86} $0.86 \\\\pm 0.10$ & \\\\cellcolor{model-79} $0.79 \\\\pm 0.09$ & \\\\cellcolor{model-89} $0.89 \\\\pm 0.05$ \\\\\\\\\n",
    "\n",
    "9 & \\\\cellcolor{model-64} $0.64 \\\\pm 0.02$ & \\\\cellcolor{model-36} $0.36 \\\\pm 0.03$ & \\\\cellcolor{model-0} $0.00 \\\\pm 0.00$ & \\\\cellcolor{model-0} $0.00 \\\\pm 0.00$ & \\\\cellcolor{model-0} $0.01 \\\\pm 0.00$ & \\\\cellcolor{model-64} $0.64 \\\\pm 0.07$ & \\\\cellcolor{model-77} $0.77 \\\\pm 0.01$ & \\\\cellcolor{model-87} $0.87 \\\\pm 0.07$ & \\\\cellcolor{model-95} $0.95 \\\\pm 0.01$ \\\\\\\\\n",
    "\n",
    "10  & \\\\cellcolor{model-59} $0.59 \\\\pm 0.03$ & \\\\cellcolor{model-80} $0.80 \\\\pm 0.01$ & \\\\cellcolor{model-70} $0.70 \\\\pm 0.00$ & \\\\cellcolor{model-70} $0.70 \\\\pm 0.01$ & \\\\cellcolor{model-65} $0.65 \\\\pm 0.04$ & \\\\cellcolor{model-66} $0.66 \\\\pm 0.06$ & \\\\cellcolor{model-86} $0.86 \\\\pm 0.10$ & \\\\cellcolor{model-79} $0.79 \\\\pm 0.09$ & \\\\cellcolor{model-89} $0.89 \\\\pm 0.05$ \\\\\\\\\n",
    "\n",
    "11  & \\\\cellcolor{model-49} $0.49 \\\\pm 0.06$ & \\\\cellcolor{model-80} $0.80 \\\\pm 0.01$ & \\\\cellcolor{model-74} $0.74 \\\\pm 0.02$ & \\\\cellcolor{model-74} $0.74 \\\\pm 0.02$ & \\\\cellcolor{model-73} $0.73 \\\\pm 0.06$ & \\\\cellcolor{model-74} $0.74 \\\\pm 0.02$ & \\\\cellcolor{model-86} $0.86 \\\\pm 0.01$ & \\\\cellcolor{model-94} $0.94 \\\\pm 0.02$ & \\\\cellcolor{model-94} $0.94 \\\\pm 0.01$ \\\\\\\\\n",
    "\n",
    "12  & \\\\cellcolor{model-61} $0.61 \\\\pm 0.01$ & \\\\cellcolor{model-81} $0.81 \\\\pm 0.00$ & \\\\cellcolor{model-76} $0.76 \\\\pm 0.02$ & \\\\cellcolor{model-75} $0.75 \\\\pm 0.01$ & \\\\cellcolor{model-69} $0.69 \\\\pm 0.02$ & \\\\cellcolor{model-69} $0.69 \\\\pm 0.01$ & \\\\cellcolor{model-91} $0.91 \\\\pm 0.01$ & \\\\cellcolor{model-87} $0.87 \\\\pm 0.07$ & \\\\cellcolor{model-88} $0.88 \\\\pm 0.03$ \\\\\\\\\n",
    "\n",
    "13  & \\\\cellcolor{model-49} $0.49 \\\\pm 0.25$ & \\\\cellcolor{model-77} $0.77 \\\\pm 0.02$ & \\\\cellcolor{model-65} $0.65 \\\\pm 0.06$ & \\\\cellcolor{model-64} $0.64 \\\\pm 0.06$ & \\\\cellcolor{model-34} $0.34 \\\\pm 0.23$ & \\\\cellcolor{model-89} $0.89 \\\\pm 0.06$ & \\\\cellcolor{model-64} $0.64 \\\\pm 0.22$ & \\\\cellcolor{model-93} $0.93 \\\\pm 0.01$ & \\\\cellcolor{model-92} $0.92 \\\\pm 0.01$ \\\\\\\\\n",
    "\n",
    "14  & \\\\cellcolor{model-51} $0.51 \\\\pm 0.16$ & \\\\cellcolor{model-76} $0.76 \\\\pm 0.02$ & \\\\cellcolor{model-71} $0.71 \\\\pm 0.01$ & \\\\cellcolor{model-70} $0.70 \\\\pm 0.03$ & \\\\cellcolor{model-0} $0.02 \\\\pm 0.02$ & \\\\cellcolor{model-79} $0.79 \\\\pm 0.03$ & \\\\cellcolor{model-75} $0.75 \\\\pm 0.11$ & \\\\cellcolor{model-87} $0.87 \\\\pm 0.12$ & \\\\cellcolor{model-93} $0.93 \\\\pm 0.00$ \\\\\\\\\n",
    "\n",
    "15 & \\\\cellcolor{model-60} $0.60 \\\\pm 0.02$ & \\\\cellcolor{model-79} $0.79 \\\\pm 0.02$ & \\\\cellcolor{model-74} $0.74 \\\\pm 0.02$ & \\\\cellcolor{model-74} $0.74 \\\\pm 0.02$ & \\\\cellcolor{model-60} $0.60 \\\\pm 0.13$ & \\\\cellcolor{model-70} $0.70 \\\\pm 0.04$ & \\\\cellcolor{model-91} $0.91 \\\\pm 0.01$ & \\\\cellcolor{model-94} $0.94 \\\\pm 0.03$ & \\\\cellcolor{model-94} $0.94 \\\\pm 0.02$ \\\\\\\\\n",
    "\n",
    "16  & \\\\cellcolor{model-70} $0.70 \\\\pm 0.02$ & \\\\cellcolor{model-80} $0.80 \\\\pm 0.02$ & \\\\cellcolor{model-82} $0.82 \\\\pm 0.03$ & \\\\cellcolor{model-75} $0.75 \\\\pm 0.01$ & \\\\cellcolor{model-48} $0.48 \\\\pm 0.27$ & \\\\cellcolor{model-72} $0.72 \\\\pm 0.08$ & \\\\cellcolor{model-83} $0.83 \\\\pm 0.04$ & \\\\cellcolor{model-91} $0.91 \\\\pm 0.05$ & \\\\cellcolor{model-91} $0.91 \\\\pm 0.04$ \\\\\\\\\n",
    "\n",
    "17 & \\\\cellcolor{model-67} $0.67 \\\\pm 0.01$ & \\\\cellcolor{model-78} $0.78 \\\\pm 0.01$ & \\\\cellcolor{model-64} $0.64 \\\\pm 0.03$ & \\\\cellcolor{model-56} $0.56 \\\\pm 0.03$ & \\\\cellcolor{model-33} $0.33 \\\\pm 0.28$ & \\\\cellcolor{model-92} $0.92 \\\\pm 0.00$ & \\\\cellcolor{model-89} $0.89 \\\\pm 0.02$ & \\\\cellcolor{model-94} $0.94 \\\\pm 0.01$ & \\\\cellcolor{model-92} $0.92 \\\\pm 0.01$ \\\\\\\\\n",
    "\n",
    "18  & \\\\cellcolor{model-67} $0.67 \\\\pm 0.02$ & \\\\cellcolor{model-64} $0.64 \\\\pm 0.03$ & \\\\cellcolor{model-0} $0.00 \\\\pm 0.00$ & \\\\cellcolor{model-0} $0.00 \\\\pm 0.00$ & \\\\cellcolor{model-0} $0.02 \\\\pm 0.02$ & \\\\cellcolor{model-28} $0.28 \\\\pm 0.06$ & \\\\cellcolor{model-71} $0.71 \\\\pm 0.18$ & \\\\cellcolor{model-81} $0.81 \\\\pm 0.10$ & \\\\cellcolor{model-85} $0.85 \\\\pm 0.06$ \\\\\\\\\n",
    "\n",
    "19  & \\\\cellcolor{model-64} $0.64 \\\\pm 0.01$ & \\\\cellcolor{model-36} $0.36 \\\\pm 0.02$ & \\\\cellcolor{model-0} $0.00 \\\\pm 0.00$ & \\\\cellcolor{model-0} $0.00 \\\\pm 0.00$ & \\\\cellcolor{model-0} $0.00 \\\\pm 0.00$ & \\\\cellcolor{model-55} $0.55 \\\\pm 0.08$ & \\\\cellcolor{model-78} $0.78 \\\\pm 0.02$ & \\\\cellcolor{model-88} $0.88 \\\\pm 0.05$ & \\\\cellcolor{model-91} $0.91 \\\\pm 0.02$ \\\\\\\\\n",
    "\n",
    "20  & \\\\cellcolor{model-60} $0.60 \\\\pm 0.01$ & \\\\cellcolor{model-77} $0.77 \\\\pm 0.02$ & \\\\cellcolor{model-70} $0.70 \\\\pm 0.03$ & \\\\cellcolor{model-67} $0.67 \\\\pm 0.02$ & \\\\cellcolor{model-68} $0.68 \\\\pm 0.04$ & \\\\cellcolor{model-70} $0.70 \\\\pm 0.03$ & \\\\cellcolor{model-91} $0.91 \\\\pm 0.01$ & \\\\cellcolor{model-87} $0.87 \\\\pm 0.01$ & \\\\cellcolor{model-89} $0.89 \\\\pm 0.02$ \\\\\\\\\n",
    "\n",
    "21  & \\\\cellcolor{model-50} $0.50 \\\\pm 0.20$ & \\\\cellcolor{model-70} $0.70 \\\\pm 0.01$ & \\\\cellcolor{model-59} $0.59 \\\\pm 0.02$ & \\\\cellcolor{model-63} $0.63 \\\\pm 0.02$ & \\\\cellcolor{model-75} $0.75 \\\\pm 0.01$ & \\\\cellcolor{model-71} $0.71 \\\\pm 0.07$ & \\\\cellcolor{model-73} $0.73 \\\\pm 0.07$ & \\\\cellcolor{model-89} $0.89 \\\\pm 0.03$ & \\\\cellcolor{model-91} $0.91 \\\\pm 0.00$ \\\\\\\\\n",
    "\n",
    "22  & \\\\cellcolor{model-41} $0.41 \\\\pm 0.15$ & \\\\cellcolor{model-75} $0.75 \\\\pm 0.01$ & \\\\cellcolor{model-63} $0.63 \\\\pm 0.01$ & \\\\cellcolor{model-69} $0.69 \\\\pm 0.01$ & \\\\cellcolor{model-72} $0.72 \\\\pm 0.01$ & \\\\cellcolor{model-68} $0.68 \\\\pm 0.06$ & \\\\cellcolor{model-87} $0.87 \\\\pm 0.00$ & \\\\cellcolor{model-89} $0.89 \\\\pm 0.03$ & \\\\cellcolor{model-89} $0.89 \\\\pm 0.01$ \\\\\\\\\n",
    "\n",
    "23 & \\\\cellcolor{model-69} $0.69 \\\\pm 0.00$ & \\\\cellcolor{model-72} $0.72 \\\\pm 0.01$ & \\\\cellcolor{model-67} $0.67 \\\\pm 0.01$ & \\\\cellcolor{model-62} $0.62 \\\\pm 0.02$ & \\\\cellcolor{model-73} $0.73 \\\\pm 0.06$ & \\\\cellcolor{model-90} $0.90 \\\\pm 0.02$ & \\\\cellcolor{model-83} $0.83 \\\\pm 0.04$ & \\\\cellcolor{model-86} $0.86 \\\\pm 0.02$ & \\\\cellcolor{model-88} $0.88 \\\\pm 0.03$ \\\\\\\\\n",
    "\n",
    "24  & \\\\cellcolor{model-67} $0.67 \\\\pm 0.00$ & \\\\cellcolor{model-75} $0.75 \\\\pm 0.01$ & \\\\cellcolor{model-67} $0.67 \\\\pm 0.01$ & \\\\cellcolor{model-63} $0.63 \\\\pm 0.01$ & \\\\cellcolor{model-71} $0.71 \\\\pm 0.01$ & \\\\cellcolor{model-76} $0.76 \\\\pm 0.03$ & \\\\cellcolor{model-72} $0.72 \\\\pm 0.02$ & \\\\cellcolor{model-85} $0.85 \\\\pm 0.10$ & \\\\cellcolor{model-91} $0.91 \\\\pm 0.01$ \\\\\\\\\n",
    "\n",
    "25  & \\\\cellcolor{model-56} $0.57 \\\\pm 0.01$ & \\\\cellcolor{model-78} $0.78 \\\\pm 0.01$ & \\\\cellcolor{model-69} $0.69 \\\\pm 0.00$ & \\\\cellcolor{model-70} $0.70 \\\\pm 0.01$ & \\\\cellcolor{model-68} $0.68 \\\\pm 0.02$ & \\\\cellcolor{model-74} $0.74 \\\\pm 0.03$ & \\\\cellcolor{model-84} $0.84 \\\\pm 0.07$ & \\\\cellcolor{model-85} $0.85 \\\\pm 0.12$ & \\\\cellcolor{model-90} $0.90 \\\\pm 0.03$ \\\\\\\\\n",
    "\n",
    "26  & \\\\cellcolor{model-64} $0.64 \\\\pm 0.02$ & \\\\cellcolor{model-81} $0.81 \\\\pm 0.01$ & \\\\cellcolor{model-79} $0.79 \\\\pm 0.03$ & \\\\cellcolor{model-75} $0.75 \\\\pm 0.01$ & \\\\cellcolor{model-62} $0.62 \\\\pm 0.08$ & \\\\cellcolor{model-73} $0.73 \\\\pm 0.01$ & \\\\cellcolor{model-88} $0.88 \\\\pm 0.01$ & \\\\cellcolor{model-85} $0.85 \\\\pm 0.13$ & \\\\cellcolor{model-92} $0.92 \\\\pm 0.01$ \\\\\\\\\n",
    "\"\"\" \\\n",
    ".split(\"\\\\\\\\\")"
   ]
  },
  {
   "cell_type": "code",
   "execution_count": 2,
   "metadata": {},
   "outputs": [
    {
     "name": "stdout",
     "output_type": "stream",
     "text": [
      "=====\n",
      "0.60\n",
      "=====\n",
      "0.73\n",
      "=====\n",
      "0.61\n",
      "=====\n",
      "0.60\n",
      "=====\n",
      "0.53\n",
      "=====\n",
      "0.71\n",
      "=====\n",
      "0.83\n",
      "=====\n",
      "0.87\n",
      "=====\n",
      "0.91\n"
     ]
    }
   ],
   "source": [
    "for i in range(1, 10):\n",
    "    total = 0\n",
    "    amount = 0\n",
    "    for x in X:\n",
    "        try:\n",
    "            x = x.split(\"&\")[i]\n",
    "            x = x[23:-10]\n",
    "            x = x.replace(\"\\\\underline{\", \"\").replace(\"}\", \"\").replace(\"underline{\", \"\").replace(\"$\", \"\").replace(\"\\\\\", \"\").replace(\"pm\", \"\").replace(\"p\", \"\")\n",
    "            x = float(x)\n",
    "            amount += 1\n",
    "            # print(amount, x)\n",
    "            total += x\n",
    "        except:\n",
    "            # print(\"finish\" * 5)\n",
    "            pass\n",
    "    print(\"=\" * 5)\n",
    "    print(f\"{total / amount:.2f}\")"
   ]
  }
 ],
 "metadata": {
  "kernelspec": {
   "display_name": "Python 3",
   "language": "python",
   "name": "python3"
  },
  "language_info": {
   "codemirror_mode": {
    "name": "ipython",
    "version": 3
   },
   "file_extension": ".py",
   "mimetype": "text/x-python",
   "name": "python",
   "nbconvert_exporter": "python",
   "pygments_lexer": "ipython3",
   "version": "3.9.6"
  }
 },
 "nbformat": 4,
 "nbformat_minor": 2
}
